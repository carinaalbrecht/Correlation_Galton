{
 "cells": [
  {
   "cell_type": "markdown",
   "metadata": {},
   "source": [
    "# Correlation and Linear Regression "
   ]
  },
  {
   "cell_type": "markdown",
   "metadata": {},
   "source": [
    "This notebook shows you steps on analyzing correlation in data, finding and plot a regression line, and using its function for prediction - a common statistical and machine learning technique.\n",
    "\n",
    "The dataset for this exercise is the one used on the famous 1885 study of Francis Galton exploring the relationship between the heights of adult children and the heights of their parents. Each case is an adult child, and the variables are\n",
    "\n",
    "    Family: The family that the child belongs to, labeled from 1 to 205.\n",
    "    Father: The father's height, in inches\n",
    "    Mother: The mother's height, in inches\n",
    "    Gender: The gender of the child, male (M) or female (F)\n",
    "    Height: The height of the child, in inches\n",
    "    Kids: The number of kids in the family of the child\n",
    "\n",
    "For more information, see here: http://www.randomservices.org/random/data/Galton.html\n",
    "\n",
    "As you go through this exercise with your group, think about these questions and be  prepared to talk about them when you come back for the group discussion:\n",
    "\n",
    "- What is the importance of what is represented in this data regarding the predictions it can make?\n",
    "- What would be the implications of using such techniques in machine learning?\n",
    "- Do you think these techniques \"transform\" the nature of knowledge?"
   ]
  },
  {
   "cell_type": "code",
   "execution_count": null,
   "metadata": {},
   "outputs": [],
   "source": [
    "#import the libraries you will need\n",
    "\n",
    "import pandas as pd #pandas to load the dataset and manipulate the data\n",
    "import numpy as np #numpy for linear algebra\n",
    "import matplotlib.pyplot as plt #pyplot for plots\n",
    "import seaborn as sns #seaborn for plots\n"
   ]
  },
  {
   "cell_type": "code",
   "execution_count": null,
   "metadata": {},
   "outputs": [],
   "source": [
    "#load the dataset from the csv file\n",
    "csv_file = \"Galton_Height_Data.csv\"\n",
    "\n",
    "galton_data = pd.read_csv(csv_file)"
   ]
  },
  {
   "cell_type": "code",
   "execution_count": null,
   "metadata": {},
   "outputs": [],
   "source": [
    "#see if loading the data worked\n",
    "galton_data.head()"
   ]
  },
  {
   "cell_type": "code",
   "execution_count": null,
   "metadata": {},
   "outputs": [],
   "source": [
    "#check the type of data you have\n",
    "galton_data.info()"
   ]
  },
  {
   "cell_type": "markdown",
   "metadata": {},
   "source": [
    "## Data analysis"
   ]
  },
  {
   "cell_type": "markdown",
   "metadata": {},
   "source": [
    "Suppose you want to use this data to train a model that makes predictions regarding the height of a child based on the height of their parents.\n",
    "\n",
    "The column \"Height\" tells you the children's height. You will need to find the regression line and function that predicts the number in this column.\n",
    "\n",
    "First, we need to do a little data \"cleaning.\"\n",
    "\n",
    "\n",
    "We cannot use categorical data for linear regression - we need to convert them to numbers.\n",
    "To do this quickly, we can import the \"LabelEncoder\" library from the sklearn library  (a machine learning library)\n",
    "The Label Encoders transforms categorical values into numbers from 0 to n classes. For example, if you have categories \"paris\", \"tokyo\" and \"amsterdam\" in a column,  these will be transformed into 0, 1 and 2.\n"
   ]
  },
  {
   "cell_type": "code",
   "execution_count": null,
   "metadata": {},
   "outputs": [],
   "source": [
    "from sklearn.preprocessing import LabelEncoder \n",
    "\n",
    "LE = LabelEncoder()\n",
    "\n",
    "cols = ['Gender']\n",
    "\n",
    "# for each column specified above, the below will transform in numbers\n",
    "for col in cols:\n",
    "    galton_data[col] = LE.fit_transform(galton_data[col]) \n",
    "\n"
   ]
  },
  {
   "cell_type": "code",
   "execution_count": null,
   "metadata": {},
   "outputs": [],
   "source": [
    "#visualize how the categorical data looks now:\n",
    "\n",
    "galton_data.head()"
   ]
  },
  {
   "cell_type": "markdown",
   "metadata": {},
   "source": [
    "# Correlation"
   ]
  },
  {
   "cell_type": "markdown",
   "metadata": {},
   "source": [
    "Pandas is really quick in calculating correlations.\n",
    "We can plot a correlation matrix easily with the corr() function.\n",
    "\n",
    "Remember:\n",
    " - 1 indicates a perfect positive correlation.\n",
    " - -1 indicates a perfect negative correlation.\n",
    " - 0 indicates that there is no relationship between the different variables."
   ]
  },
  {
   "cell_type": "code",
   "execution_count": null,
   "metadata": {},
   "outputs": [],
   "source": [
    "galton_data.corr()"
   ]
  },
  {
   "cell_type": "markdown",
   "metadata": {},
   "source": [
    "or, you can also use a \"heatmap\" to visualize correlation with the seaborn library"
   ]
  },
  {
   "cell_type": "code",
   "execution_count": null,
   "metadata": {},
   "outputs": [],
   "source": [
    "corr = galton_data.corr()\n",
    "plt.figure(figsize=(15, 12)) #defines the size of the figure\n",
    "sns.heatmap(corr, annot=True)"
   ]
  },
  {
   "cell_type": "markdown",
   "metadata": {},
   "source": [
    "Observation: \n",
    "- Gender is positively correlated with height in this dataset.\n"
   ]
  },
  {
   "cell_type": "markdown",
   "metadata": {},
   "source": [
    "# Linear regression"
   ]
  },
  {
   "cell_type": "markdown",
   "metadata": {},
   "source": [
    "You can use seaborn to plot linear regression line between two features in the data."
   ]
  },
  {
   "cell_type": "code",
   "execution_count": null,
   "metadata": {},
   "outputs": [],
   "source": [
    "#Regression line for child's height and father's height\n",
    "\n",
    "sns.regplot(x=\"Height\", y=\"Father\", data=galton_data)"
   ]
  },
  {
   "cell_type": "markdown",
   "metadata": {},
   "source": [
    "Ps.: the shaded are is the \"size of the confidence interval for the regression estimate\""
   ]
  },
  {
   "cell_type": "markdown",
   "metadata": {},
   "source": [
    "If you want to visualize how these differ with a third variable, such as Gender, use the \"hue\" parameter"
   ]
  },
  {
   "cell_type": "code",
   "execution_count": null,
   "metadata": {},
   "outputs": [],
   "source": [
    "sns.lmplot(x=\"Height\", y=\"Father\", hue=\"Gender\", data=galton_data)"
   ]
  },
  {
   "cell_type": "markdown",
   "metadata": {},
   "source": [
    "Once you've got a regression line, you can use its function to make predictions through its equation. There are machine learning libraries to do that across all variables in the dataset, but first, you will use the simple statistical method and, therefore, the \"statsmodel\" library.\n",
    "\n",
    "Remember:\n",
    "\n",
    "A linear regression line has an equation of the form Y = a + bX, where X is the explanatory variable and Y is the dependent variable. The slope of the line is b, and a is the intercept (the value of y when x = 0)."
   ]
  },
  {
   "cell_type": "code",
   "execution_count": null,
   "metadata": {},
   "outputs": [],
   "source": [
    "from scipy import stats\n",
    "\n",
    "#predict the child's height using father's height.\n",
    "# get the slope, intercept using the stats library\n",
    "slope, intercept, r_value, p_value, std_err = stats.linregress(galton_data['Father'],galton_data['Height'])\n"
   ]
  },
  {
   "cell_type": "code",
   "execution_count": null,
   "metadata": {},
   "outputs": [],
   "source": [
    "# assign the values of a and b to intercept and slope, to maintain terminology above\n",
    "\n",
    "a = intercept\n",
    "b = slope"
   ]
  },
  {
   "cell_type": "code",
   "execution_count": null,
   "metadata": {},
   "outputs": [],
   "source": [
    "print(a) #intercept"
   ]
  },
  {
   "cell_type": "code",
   "execution_count": null,
   "metadata": {},
   "outputs": [],
   "source": [
    "print(b) #slope"
   ]
  },
  {
   "cell_type": "code",
   "execution_count": null,
   "metadata": {},
   "outputs": [],
   "source": [
    "# predict the value of x = 70 (father's height is 70)\n",
    "x = 70"
   ]
  },
  {
   "cell_type": "code",
   "execution_count": null,
   "metadata": {},
   "outputs": [],
   "source": [
    "#equation of the least square lines that best fits this line:\n",
    "y = a + b*x\n"
   ]
  },
  {
   "cell_type": "code",
   "execution_count": null,
   "metadata": {},
   "outputs": [],
   "source": [
    "print(y)"
   ]
  },
  {
   "cell_type": "markdown",
   "metadata": {},
   "source": [
    "The predicted child's height is Y if the father's height is X.\n",
    "\n",
    "The r-value is the degree of correlation between the 2 variables."
   ]
  },
  {
   "cell_type": "code",
   "execution_count": null,
   "metadata": {},
   "outputs": [],
   "source": [
    "print(r_value)"
   ]
  },
  {
   "cell_type": "code",
   "execution_count": null,
   "metadata": {},
   "outputs": [],
   "source": [
    "\n",
    "#predict the child's height using mother's height.\n",
    "# get the slope, intercept using the stats library\n",
    "slope, intercept, r_value, p_value, std_err = stats.linregress(galton_data['Mother'],galton_data['Height'])\n"
   ]
  },
  {
   "cell_type": "code",
   "execution_count": null,
   "metadata": {},
   "outputs": [],
   "source": [
    "a = intercept\n",
    "b = slope\n",
    "\n",
    "# predict the value of x = 70 (mother's height is 70)\n",
    "x = 70\n",
    "\n",
    "#equation of the least square lines that best fits this line:\n",
    "y = a + b*x\n",
    "\n",
    "print(y)"
   ]
  },
  {
   "cell_type": "code",
   "execution_count": null,
   "metadata": {},
   "outputs": [],
   "source": [
    "print(r_value)"
   ]
  },
  {
   "cell_type": "markdown",
   "metadata": {},
   "source": [
    "The degree of correlation between father's height and child's height is greater than the correlation between mother and child's height."
   ]
  },
  {
   "cell_type": "code",
   "execution_count": null,
   "metadata": {},
   "outputs": [],
   "source": [
    "#predict the child's height using gender.\n",
    "# get the slope, intercept using the stats library\n",
    "slope, intercept, r_value, p_value, std_err = stats.linregress(galton_data['Gender'],galton_data['Height'])\n",
    "\n",
    "a = intercept\n",
    "b = slope\n",
    "\n",
    "# predict the value of x = 1 (male)\n",
    "x = 1\n",
    "\n",
    "#equation of the least square lines that best fits this line:\n",
    "y = a + b*x\n",
    "\n",
    "print(y)"
   ]
  },
  {
   "cell_type": "code",
   "execution_count": null,
   "metadata": {},
   "outputs": [],
   "source": [
    "print(r_value)"
   ]
  },
  {
   "cell_type": "markdown",
   "metadata": {},
   "source": [
    "The correlation between gender and child height is much higher than mother or father heights and chi."
   ]
  },
  {
   "cell_type": "markdown",
   "metadata": {},
   "source": [
    "# Multiple Regression (bonus)"
   ]
  },
  {
   "cell_type": "markdown",
   "metadata": {},
   "source": [
    "\n",
    "Multiple regression is like linear regression, but with more than one independent value, meaning that we try to predict a value based on two or more variables.\n",
    "\n",
    "Let's try to predict height of a child based on both the mother and father's height.\n",
    "\n",
    "Then make a list of the independent values and call this variable X.\n",
    "\n",
    "Put the dependent values in a variable called y.\n"
   ]
  },
  {
   "cell_type": "code",
   "execution_count": null,
   "metadata": {},
   "outputs": [],
   "source": [
    "X = galton_data[['Father', 'Mother']]\n",
    "y = galton_data['Height'] "
   ]
  },
  {
   "cell_type": "code",
   "execution_count": null,
   "metadata": {},
   "outputs": [],
   "source": [
    "from sklearn import linear_model \n",
    "\n",
    "regr = linear_model.LinearRegression()\n",
    "regr.fit(X, y) "
   ]
  },
  {
   "cell_type": "code",
   "execution_count": null,
   "metadata": {},
   "outputs": [],
   "source": [
    "#predict the height of the children based on father and mother's height\n",
    "predicted_height = regr.predict([[60, 60]]) \n",
    "\n",
    "print(predicted_height)"
   ]
  },
  {
   "cell_type": "code",
   "execution_count": null,
   "metadata": {},
   "outputs": [],
   "source": [
    "#predict the height of the children based on father and mother's height and gender\n",
    "X = galton_data[['Father', 'Mother','Gender']]\n",
    "y = galton_data['Height'] \n",
    "\n",
    "regr = linear_model.LinearRegression()\n",
    "regr.fit(X, y) \n",
    "predicted_height = regr.predict([[60, 60,1]]) # 1 = male 0= female\n",
    "\n",
    "print(predicted_height)"
   ]
  },
  {
   "cell_type": "code",
   "execution_count": null,
   "metadata": {},
   "outputs": [],
   "source": [
    "X = galton_data[['Father', 'Mother','Gender']]\n",
    "y = galton_data['Height'] \n",
    "\n",
    "regr = linear_model.LinearRegression()\n",
    "regr.fit(X, y) \n",
    "predicted_height = regr.predict([[60, 60,0]]) \n",
    "\n",
    "print(predicted_height)"
   ]
  },
  {
   "cell_type": "code",
   "execution_count": null,
   "metadata": {},
   "outputs": [],
   "source": []
  }
 ],
 "metadata": {
  "kernelspec": {
   "display_name": "Python 3",
   "language": "python",
   "name": "python3"
  },
  "language_info": {
   "codemirror_mode": {
    "name": "ipython",
    "version": 3
   },
   "file_extension": ".py",
   "mimetype": "text/x-python",
   "name": "python",
   "nbconvert_exporter": "python",
   "pygments_lexer": "ipython3",
   "version": "3.7.4"
  }
 },
 "nbformat": 4,
 "nbformat_minor": 2
}
